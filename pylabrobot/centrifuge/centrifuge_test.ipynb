{
 "cells": [
  {
   "cell_type": "code",
   "execution_count": 1,
   "metadata": {},
   "outputs": [],
   "source": [
    "from pylabrobot.centrifuge import AgilentCentrifuge"
   ]
  },
  {
   "cell_type": "code",
   "execution_count": 2,
   "metadata": {},
   "outputs": [],
   "source": [
    "cf = AgilentCentrifuge()"
   ]
  },
  {
   "cell_type": "code",
   "execution_count": 3,
   "metadata": {},
   "outputs": [
    {
     "ename": "FtdiError",
     "evalue": "b'device not found' (-3)\n\nNo device matching the given specification could be found.\nIs the device connected?\n\nTry running the following command to see if the device is listed:\n\n    python3 -m pylibftdi.examples.list_devices\n",
     "output_type": "error",
     "traceback": [
      "\u001b[0;31m---------------------------------------------------------------------------\u001b[0m",
      "\u001b[0;31mFtdiError\u001b[0m                                 Traceback (most recent call last)",
      "Cell \u001b[0;32mIn[3], line 1\u001b[0m\n\u001b[0;32m----> 1\u001b[0m \u001b[38;5;28;01mawait\u001b[39;00m cf\u001b[38;5;241m.\u001b[39msetup()\n",
      "File \u001b[0;32m~/Documents/testPy/pylabrobot/pylabrobot/centrifuge/centrifuge.py:30\u001b[0m, in \u001b[0;36mAgilentCentrifuge.setup\u001b[0;34m(self)\u001b[0m\n\u001b[1;32m     27\u001b[0m \u001b[38;5;28;01mif\u001b[39;00m \u001b[38;5;129;01mnot\u001b[39;00m USE_FTDI:\n\u001b[1;32m     28\u001b[0m     \u001b[38;5;28;01mraise\u001b[39;00m \u001b[38;5;167;01mRuntimeError\u001b[39;00m(\u001b[38;5;124m\"\u001b[39m\u001b[38;5;124mneed ftdi\u001b[39m\u001b[38;5;124m\"\u001b[39m)    \n\u001b[0;32m---> 30\u001b[0m \u001b[38;5;28mself\u001b[39m\u001b[38;5;241m.\u001b[39mdev \u001b[38;5;241m=\u001b[39m \u001b[43mDevice\u001b[49m\u001b[43m(\u001b[49m\u001b[43m)\u001b[49m\n\u001b[1;32m     31\u001b[0m \u001b[38;5;28mself\u001b[39m\u001b[38;5;241m.\u001b[39mdev\u001b[38;5;241m.\u001b[39mopen()\n\u001b[1;32m     33\u001b[0m \u001b[38;5;28mself\u001b[39m\u001b[38;5;241m.\u001b[39mdev\u001b[38;5;241m.\u001b[39mbaudrate \u001b[38;5;241m=\u001b[39m \u001b[38;5;241m156\u001b[39m \u001b[38;5;66;03m# TODO: this is standard baud rate, but not the one that the robot uses I believe - alternatively can try all baud rates\u001b[39;00m\n",
      "File \u001b[0;32m~/Documents/testPy/env/lib/python3.12/site-packages/pylibftdi/device.py:215\u001b[0m, in \u001b[0;36mDevice.__init__\u001b[0;34m(self, device_id, mode, encoding, interface_select, device_index, **kwargs)\u001b[0m\n\u001b[1;32m    213\u001b[0m \u001b[38;5;66;03m# lazy_open tells us not to open immediately.\u001b[39;00m\n\u001b[1;32m    214\u001b[0m \u001b[38;5;28;01mif\u001b[39;00m \u001b[38;5;129;01mnot\u001b[39;00m \u001b[38;5;28mself\u001b[39m\u001b[38;5;241m.\u001b[39mlazy_open:\n\u001b[0;32m--> 215\u001b[0m     \u001b[38;5;28;43mself\u001b[39;49m\u001b[38;5;241;43m.\u001b[39;49m\u001b[43mopen\u001b[49m\u001b[43m(\u001b[49m\u001b[43m)\u001b[49m\n",
      "File \u001b[0;32m~/Documents/testPy/env/lib/python3.12/site-packages/pylibftdi/device.py:273\u001b[0m, in \u001b[0;36mDevice.open\u001b[0;34m(self)\u001b[0m\n\u001b[1;32m    271\u001b[0m     \u001b[38;5;28mself\u001b[39m\u001b[38;5;241m.\u001b[39mfdll\u001b[38;5;241m.\u001b[39mftdi_deinit(byref(\u001b[38;5;28mself\u001b[39m\u001b[38;5;241m.\u001b[39mctx))\n\u001b[1;32m    272\u001b[0m     \u001b[38;5;28;01mdel\u001b[39;00m \u001b[38;5;28mself\u001b[39m\u001b[38;5;241m.\u001b[39mctx\n\u001b[0;32m--> 273\u001b[0m     \u001b[38;5;28;01mraise\u001b[39;00m FtdiError(msg)\n\u001b[1;32m    275\u001b[0m \u001b[38;5;28;01mif\u001b[39;00m \u001b[38;5;28mself\u001b[39m\u001b[38;5;241m.\u001b[39mauto_detach \u001b[38;5;129;01mand\u001b[39;00m \u001b[38;5;28mself\u001b[39m\u001b[38;5;241m.\u001b[39mdriver\u001b[38;5;241m.\u001b[39mlibftdi_version()\u001b[38;5;241m.\u001b[39mmajor \u001b[38;5;241m>\u001b[39m \u001b[38;5;241m0\u001b[39m:\n\u001b[1;32m    276\u001b[0m     \u001b[38;5;66;03m# This doesn't reliably work on libftdi 0.x, so we ignore it\u001b[39;00m\n\u001b[1;32m    277\u001b[0m     ctx_p \u001b[38;5;241m=\u001b[39m cast(byref(\u001b[38;5;28mself\u001b[39m\u001b[38;5;241m.\u001b[39mctx), POINTER(ftdi_context_partial))\u001b[38;5;241m.\u001b[39mcontents\n",
      "\u001b[0;31mFtdiError\u001b[0m: b'device not found' (-3)\n\nNo device matching the given specification could be found.\nIs the device connected?\n\nTry running the following command to see if the device is listed:\n\n    python3 -m pylibftdi.examples.list_devices\n"
     ]
    }
   ],
   "source": [
    "await cf.setup()"
   ]
  },
  {
   "cell_type": "code",
   "execution_count": null,
   "metadata": {},
   "outputs": [],
   "source": []
  }
 ],
 "metadata": {
  "kernelspec": {
   "display_name": "env",
   "language": "python",
   "name": "python3"
  },
  "language_info": {
   "codemirror_mode": {
    "name": "ipython",
    "version": 3
   },
   "file_extension": ".py",
   "mimetype": "text/x-python",
   "name": "python",
   "nbconvert_exporter": "python",
   "pygments_lexer": "ipython3",
   "version": "3.12.2"
  }
 },
 "nbformat": 4,
 "nbformat_minor": 2
}
