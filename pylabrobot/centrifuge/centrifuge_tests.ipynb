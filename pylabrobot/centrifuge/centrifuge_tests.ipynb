{
 "cells": [
  {
   "cell_type": "code",
   "execution_count": null,
   "metadata": {},
   "outputs": [],
   "source": [
    "from pylabrobot.centrifuge import Centrifuge, AgilentCentrifuge\n",
    "cf = Centrifuge(name = 'centrifuge', backend = AgilentCentrifuge(), size_x= 1, size_y=1, size_z=1)\n",
    "await cf.setup()"
   ]
  },
  {
   "cell_type": "code",
   "execution_count": null,
   "metadata": {},
   "outputs": [],
   "source": [
    "await cf.start_spin_cycle(g = 300, time_seconds = 60)"
   ]
  }
 ],
 "metadata": {
  "language_info": {
   "name": "python"
  }
 },
 "nbformat": 4,
 "nbformat_minor": 2
}
